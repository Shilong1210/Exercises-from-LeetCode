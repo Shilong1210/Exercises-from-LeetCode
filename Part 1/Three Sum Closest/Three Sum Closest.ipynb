{
 "cells": [
  {
   "cell_type": "markdown",
   "metadata": {},
   "source": [
    "![image](Question.PNG)"
   ]
  },
  {
   "cell_type": "code",
   "execution_count": 1,
   "metadata": {},
   "outputs": [],
   "source": [
    "class Solution(object):\n",
    "    def threeSumClosest(self, nums, target):\n",
    "        \"\"\"\n",
    "        :type nums: List[int]\n",
    "        :type target: int\n",
    "        :rtype: int\n",
    "        \"\"\"\n",
    "        \n",
    "        if (not nums or len(nums) < 3):\n",
    "            return None\n",
    "        \n",
    "        nums.sort()\n",
    "        sum_closest = sum(nums[0:3])\n",
    "        \n",
    "        for i, item in enumerate(nums):\n",
    "            start = 0\n",
    "            end = len(nums)-1\n",
    "            \n",
    "            while(start < i and end > i):\n",
    "                sum_res = nums[i]+nums[start]+nums[end]\n",
    "                if(sum_res==target):\n",
    "                    sum_closest = sum_res\n",
    "                    break\n",
    "                elif(sum_res < target):\n",
    "                    start += 1\n",
    "                else:\n",
    "                    end -= 1\n",
    "                if(abs(sum_res-target)<abs(sum_closest-target)):\n",
    "                    sum_closest = sum_res\n",
    "                    \n",
    "        return sum_closest"
   ]
  },
  {
   "cell_type": "code",
   "execution_count": 2,
   "metadata": {},
   "outputs": [
    {
     "data": {
      "text/plain": [
       "2"
      ]
     },
     "execution_count": 2,
     "metadata": {},
     "output_type": "execute_result"
    }
   ],
   "source": [
    "Solution().threeSumClosest([-1, 2, 1, -4],2)"
   ]
  }
 ],
 "metadata": {
  "kernelspec": {
   "display_name": "Python 3",
   "language": "python",
   "name": "python3"
  },
  "language_info": {
   "codemirror_mode": {
    "name": "ipython",
    "version": 3
   },
   "file_extension": ".py",
   "mimetype": "text/x-python",
   "name": "python",
   "nbconvert_exporter": "python",
   "pygments_lexer": "ipython3",
   "version": "3.7.2"
  }
 },
 "nbformat": 4,
 "nbformat_minor": 2
}

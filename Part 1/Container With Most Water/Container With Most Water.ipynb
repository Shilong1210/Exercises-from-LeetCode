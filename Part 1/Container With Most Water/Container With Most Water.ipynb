{
 "cells": [
  {
   "cell_type": "markdown",
   "metadata": {},
   "source": [
    "![image](Question.PNG)"
   ]
  },
  {
   "cell_type": "code",
   "execution_count": 1,
   "metadata": {},
   "outputs": [],
   "source": [
    "class Solution(object):\n",
    "    def maxArea(self, height):\n",
    "        \"\"\"\n",
    "        :type height: List[int]\n",
    "        :rtype: int\n",
    "        \"\"\"\n",
    "        if(not height or len(height) < 2):\n",
    "            return 0\n",
    "        max_water = 0\n",
    "        start = 0\n",
    "        end = len(height)-1\n",
    "        while(start<end):\n",
    "            new_water = min(height[start],height[end])*(end-start)\n",
    "            if(new_water > max_water):\n",
    "                max_water = new_water\n",
    "            if(height[start] < height[end]):\n",
    "                start += 1\n",
    "            else:\n",
    "                end -= 1\n",
    "                    \n",
    "        return max_water"
   ]
  },
  {
   "cell_type": "code",
   "execution_count": 2,
   "metadata": {},
   "outputs": [
    {
     "data": {
      "text/plain": [
       "49"
      ]
     },
     "execution_count": 2,
     "metadata": {},
     "output_type": "execute_result"
    }
   ],
   "source": [
    "Solution().maxArea([1,8,6,2,5,4,8,3,7])"
   ]
  }
 ],
 "metadata": {
  "kernelspec": {
   "display_name": "Python 3",
   "language": "python",
   "name": "python3"
  },
  "language_info": {
   "codemirror_mode": {
    "name": "ipython",
    "version": 3
   },
   "file_extension": ".py",
   "mimetype": "text/x-python",
   "name": "python",
   "nbconvert_exporter": "python",
   "pygments_lexer": "ipython3",
   "version": "3.7.2"
  }
 },
 "nbformat": 4,
 "nbformat_minor": 2
}

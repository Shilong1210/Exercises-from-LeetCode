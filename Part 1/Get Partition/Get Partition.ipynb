{
 "cells": [
  {
   "cell_type": "markdown",
   "metadata": {},
   "source": [
    "Get the number of partitions for an integer.  \n",
    "For example, if the input is 4. Its partition will be **4, 3+1, 2+2, 1+2+1, 1+1+1+1**.  \n",
    "Therefore, the output will be 5."
   ]
  },
  {
   "cell_type": "code",
   "execution_count": 6,
   "metadata": {},
   "outputs": [
    {
     "name": "stdout",
     "output_type": "stream",
     "text": [
      "5\n"
     ]
    }
   ],
   "source": [
    "# Recursive\n",
    "\n",
    "def partition(n,m):\n",
    "    if(n<=0 or m<=0):\n",
    "        raise ValueError('The input is invalid')\n",
    "    if(n==1 or m==1):\n",
    "        return 1\n",
    "    elif(n==m):\n",
    "        return 1+partition(n,m-1)\n",
    "    elif(n<m):\n",
    "        return partition(n,n)\n",
    "    else:\n",
    "        return partition(n-m,m)+partition(n,m-1)\n",
    "    \n",
    "if __name__==\"__main__\":\n",
    "    print(partition(4,4))"
   ]
  },
  {
   "cell_type": "code",
   "execution_count": 17,
   "metadata": {},
   "outputs": [
    {
     "name": "stdout",
     "output_type": "stream",
     "text": [
      "5\n"
     ]
    }
   ],
   "source": [
    "# Dynamic Programming\n",
    "\n",
    "def partition(n,m):\n",
    "    if(n<=0 or m<=0):\n",
    "        raise ValueError('The input is invalid')\n",
    "    if(n==1 or m==1):\n",
    "        matrix[n][m] = 1\n",
    "        return matrix[n][m]\n",
    "    elif(n==m):\n",
    "        if(matrix[n][m-1]):\n",
    "            matrix[n][m] = 1+matrix[n][m-1]\n",
    "        else:\n",
    "            matrix[n][m] = 1+partition(n,m-1)\n",
    "        return matrix[n][m]\n",
    "    elif(n<m):\n",
    "        if(not matrix[n][n]):\n",
    "            matrix[n][n] = partition(n,n)\n",
    "        return matrix[n][n]\n",
    "    else:\n",
    "        if(not matrix[n-m][m]):\n",
    "            matrix[n-m][m] = partition(n-m,m)\n",
    "        if(not matrix[n][m-1]):\n",
    "            matrix[n][m-1] = partition(n,m-1)\n",
    "        matrix[n][m] = matrix[n-m][m]+matrix[n][m-1]\n",
    "        return matrix[n][m]\n",
    "    \n",
    "if __name__ == \"__main__\":\n",
    "    n = 4\n",
    "    global matrix\n",
    "    matrix = [[0 for i in range(n+1)] for i in range(n+1)]\n",
    "    print(partition(n,n))"
   ]
  }
 ],
 "metadata": {
  "kernelspec": {
   "display_name": "Python 3",
   "language": "python",
   "name": "python3"
  },
  "language_info": {
   "codemirror_mode": {
    "name": "ipython",
    "version": 3
   },
   "file_extension": ".py",
   "mimetype": "text/x-python",
   "name": "python",
   "nbconvert_exporter": "python",
   "pygments_lexer": "ipython3",
   "version": "3.6.8"
  }
 },
 "nbformat": 4,
 "nbformat_minor": 2
}

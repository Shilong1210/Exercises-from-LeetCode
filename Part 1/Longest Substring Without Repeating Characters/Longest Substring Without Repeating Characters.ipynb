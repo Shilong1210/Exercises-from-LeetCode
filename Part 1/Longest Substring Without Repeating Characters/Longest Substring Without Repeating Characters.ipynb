{
 "cells": [
  {
   "cell_type": "markdown",
   "metadata": {},
   "source": [
    "![image](./Question.PNG)"
   ]
  },
  {
   "cell_type": "code",
   "execution_count": 51,
   "metadata": {},
   "outputs": [],
   "source": [
    "class Solution(object):\n",
    "    def lengthOfLongestSubstring(self, s):\n",
    "        \"\"\"\n",
    "        :type s: str\n",
    "        :rtype: int\n",
    "        \"\"\"\n",
    "        \n",
    "        s_list = list(s)\n",
    "        if(len(s_list) == 0):\n",
    "            return 0\n",
    "        \n",
    "        cur_list = []\n",
    "        count_list = []\n",
    "        repeat_set = set()\n",
    "        \n",
    "        for item in s_list:\n",
    "            cur_list.append(item)\n",
    "            if item in repeat_set:\n",
    "                index = cur_list.index(item)+1\n",
    "                cur_list = cur_list[index::]\n",
    "                repeat_set = set(cur_list)\n",
    "            repeat_set.add(item)\n",
    "            count_list.append(len(cur_list))\n",
    "                   \n",
    "        return max(count_list)"
   ]
  }
 ],
 "metadata": {
  "kernelspec": {
   "display_name": "Python 3",
   "language": "python",
   "name": "python3"
  },
  "language_info": {
   "codemirror_mode": {
    "name": "ipython",
    "version": 3
   },
   "file_extension": ".py",
   "mimetype": "text/x-python",
   "name": "python",
   "nbconvert_exporter": "python",
   "pygments_lexer": "ipython3",
   "version": "3.6.8"
  }
 },
 "nbformat": 4,
 "nbformat_minor": 2
}

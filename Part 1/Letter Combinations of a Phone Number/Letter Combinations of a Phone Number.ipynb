{
 "cells": [
  {
   "cell_type": "markdown",
   "metadata": {},
   "source": [
    "![image](Question.PNG)"
   ]
  },
  {
   "cell_type": "code",
   "execution_count": 6,
   "metadata": {},
   "outputs": [],
   "source": [
    "class Solution(object):\n",
    "    def letterCombinations(self, digits):\n",
    "        \"\"\"\n",
    "        :type digits: str\n",
    "        :rtype: List[str]\n",
    "        \"\"\"\n",
    "        if(not digits):\n",
    "            return []\n",
    "        \n",
    "        digit_dict = {'2':['a','b','c'],\n",
    "                     '3':['d','e','f'],\n",
    "                     '4':['g','h','i'],\n",
    "                     '5':['j','k','l'],\n",
    "                     '6':['m','n','o'],\n",
    "                     '7':['p','q','r','s'],\n",
    "                     '8':['t','u','v'],\n",
    "                     '9':['w','x','y','z']}\n",
    "        final_res = ['']\n",
    "        \n",
    "        for digit in digits:\n",
    "            cur_res = []\n",
    "            if digit in digit_dict.keys():\n",
    "                for item in final_res:\n",
    "                    for entry in digit_dict[digit]:\n",
    "                        cur_res.append(item+entry)\n",
    "                final_res = cur_res\n",
    "        \n",
    "        return final_res"
   ]
  },
  {
   "cell_type": "code",
   "execution_count": 7,
   "metadata": {},
   "outputs": [
    {
     "data": {
      "text/plain": [
       "['ad', 'ae', 'af', 'bd', 'be', 'bf', 'cd', 'ce', 'cf']"
      ]
     },
     "execution_count": 7,
     "metadata": {},
     "output_type": "execute_result"
    }
   ],
   "source": [
    "Solution().letterCombinations(\"23\")"
   ]
  }
 ],
 "metadata": {
  "kernelspec": {
   "display_name": "Python 3",
   "language": "python",
   "name": "python3"
  },
  "language_info": {
   "codemirror_mode": {
    "name": "ipython",
    "version": 3
   },
   "file_extension": ".py",
   "mimetype": "text/x-python",
   "name": "python",
   "nbconvert_exporter": "python",
   "pygments_lexer": "ipython3",
   "version": "3.7.2"
  }
 },
 "nbformat": 4,
 "nbformat_minor": 2
}

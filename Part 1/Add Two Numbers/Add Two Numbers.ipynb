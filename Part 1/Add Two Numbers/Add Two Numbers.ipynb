{
 "cells": [
  {
   "cell_type": "markdown",
   "metadata": {},
   "source": [
    "![image](./Question.PNG)"
   ]
  },
  {
   "cell_type": "code",
   "execution_count": null,
   "metadata": {},
   "outputs": [],
   "source": [
    "# Definition for singly-linked list.\n",
    "# class ListNode(object):\n",
    "#     def __init__(self, x):\n",
    "#         self.val = x\n",
    "#         self.next = None\n",
    "\n",
    "class Solution(object):\n",
    "    def addTwoNumbers(self, l1, l2):\n",
    "        \"\"\"\n",
    "        :type l1: ListNode\n",
    "        :type l2: ListNode\n",
    "        :rtype: ListNode\n",
    "        \"\"\"\n",
    "        \n",
    "        digit_index = 0\n",
    "        sum_two = 0\n",
    "        while(l1):\n",
    "            sum_two += l1.val*pow(10,digit_index)\n",
    "            digit_index += 1\n",
    "            l1 = l1.next\n",
    "        digit_index = 0\n",
    "        while(l2):\n",
    "            sum_two += l2.val*pow(10,digit_index)\n",
    "            digit_index += 1\n",
    "            l2 = l2.next\n",
    "            \n",
    "        l_merged = ListNode(sum_two % 10)\n",
    "        head = l_merged\n",
    "        sum_two = sum_two // 10\n",
    "        while(sum_two):\n",
    "            l_merged.next = ListNode(sum_two % 10)\n",
    "            sum_two = sum_two // 10\n",
    "            l_merged = l_merged.next\n",
    "        \n",
    "        return head"
   ]
  }
 ],
 "metadata": {
  "kernelspec": {
   "display_name": "Python 3",
   "language": "python",
   "name": "python3"
  },
  "language_info": {
   "codemirror_mode": {
    "name": "ipython",
    "version": 3
   },
   "file_extension": ".py",
   "mimetype": "text/x-python",
   "name": "python",
   "nbconvert_exporter": "python",
   "pygments_lexer": "ipython3",
   "version": "3.6.8"
  }
 },
 "nbformat": 4,
 "nbformat_minor": 2
}

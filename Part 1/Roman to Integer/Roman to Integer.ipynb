{
 "cells": [
  {
   "cell_type": "markdown",
   "metadata": {},
   "source": [
    "![image](Question.PNG)"
   ]
  },
  {
   "cell_type": "code",
   "execution_count": 5,
   "metadata": {},
   "outputs": [],
   "source": [
    "class Solution(object):\n",
    "    def romanToInt(self, s):\n",
    "        \"\"\"\n",
    "        :type s: str\n",
    "        :rtype: int\n",
    "        \"\"\"\n",
    "        if(not s):\n",
    "            return None\n",
    "        r2i_dict = {0:{'I':1,'IV':4,'V':5,'IX':9},\n",
    "                    1:{'X':1,'XL':4,'L':5,'XC':9},\n",
    "                    2:{'C':1,'CD':4,'D':5,'CM':9},\n",
    "                    3:{'M':1}}\n",
    "        num = 0\n",
    "        p = 0\n",
    "        while p < len(s):\n",
    "            flag = False\n",
    "            if(p+1 < len(s)):\n",
    "                for j in range(3,-1,-1):\n",
    "                    if s[p] + s[p+1] in r2i_dict[j]:\n",
    "                        num += r2i_dict[j][s[p] + s[p+1]]*pow(10,j)\n",
    "                        flag = True\n",
    "                        p += 1\n",
    "                        break\n",
    "            if(not flag):\n",
    "                for j in range(3,-1,-1):\n",
    "                    if s[p] in r2i_dict[j]:\n",
    "                        num += r2i_dict[j][s[p]]*pow(10,j)\n",
    "                        break\n",
    "            p += 1\n",
    "            \n",
    "        return num"
   ]
  },
  {
   "cell_type": "code",
   "execution_count": 6,
   "metadata": {},
   "outputs": [
    {
     "data": {
      "text/plain": [
       "1994"
      ]
     },
     "execution_count": 6,
     "metadata": {},
     "output_type": "execute_result"
    }
   ],
   "source": [
    "Solution().romanToInt(\"MCMXCIV\")"
   ]
  }
 ],
 "metadata": {
  "kernelspec": {
   "display_name": "Python 3",
   "language": "python",
   "name": "python3"
  },
  "language_info": {
   "codemirror_mode": {
    "name": "ipython",
    "version": 3
   },
   "file_extension": ".py",
   "mimetype": "text/x-python",
   "name": "python",
   "nbconvert_exporter": "python",
   "pygments_lexer": "ipython3",
   "version": "3.7.2"
  }
 },
 "nbformat": 4,
 "nbformat_minor": 2
}

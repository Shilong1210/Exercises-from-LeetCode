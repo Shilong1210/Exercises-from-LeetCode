{
 "cells": [
  {
   "cell_type": "markdown",
   "metadata": {},
   "source": [
    "![image](Question.PNG)"
   ]
  },
  {
   "cell_type": "code",
   "execution_count": 12,
   "metadata": {},
   "outputs": [],
   "source": [
    "class Solution(object):\n",
    "    def convert(self, s, numRows):\n",
    "        \"\"\"\n",
    "        :type s: str\n",
    "        :type numRows: int\n",
    "        :rtype: str\n",
    "        \"\"\"\n",
    "        if(numRows == 1):\n",
    "            return s\n",
    "        list_s = list(s)\n",
    "        out_arr = [\"\" for i in range(numRows)]\n",
    "        pointer = 0\n",
    "        flag = True\n",
    "        for item in list_s:\n",
    "            out_arr[pointer] += item\n",
    "            if flag:\n",
    "                pointer += 1\n",
    "            else:\n",
    "                pointer -= 1\n",
    "            if(pointer == numRows):\n",
    "                flag = False\n",
    "                pointer -= 2\n",
    "            elif(pointer == -1):\n",
    "                flag = True\n",
    "                pointer += 2\n",
    "                \n",
    "        return \"\".join(out_arr)"
   ]
  },
  {
   "cell_type": "code",
   "execution_count": 14,
   "metadata": {},
   "outputs": [
    {
     "data": {
      "text/plain": [
       "'PAHNAPLSIIGYIR'"
      ]
     },
     "execution_count": 14,
     "metadata": {},
     "output_type": "execute_result"
    }
   ],
   "source": [
    "Solution().convert(\"PAYPALISHIRING\",3)"
   ]
  }
 ],
 "metadata": {
  "kernelspec": {
   "display_name": "Python 3",
   "language": "python",
   "name": "python3"
  },
  "language_info": {
   "codemirror_mode": {
    "name": "ipython",
    "version": 3
   },
   "file_extension": ".py",
   "mimetype": "text/x-python",
   "name": "python",
   "nbconvert_exporter": "python",
   "pygments_lexer": "ipython3",
   "version": "3.6.8"
  }
 },
 "nbformat": 4,
 "nbformat_minor": 2
}

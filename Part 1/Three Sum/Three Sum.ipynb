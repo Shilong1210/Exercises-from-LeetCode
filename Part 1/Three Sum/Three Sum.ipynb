{
 "cells": [
  {
   "cell_type": "markdown",
   "metadata": {},
   "source": [
    "![image](Question.PNG)"
   ]
  },
  {
   "cell_type": "code",
   "execution_count": 67,
   "metadata": {},
   "outputs": [],
   "source": [
    "class Solution(object):\n",
    "    def threeSum(self, nums):\n",
    "        \"\"\"\n",
    "        :type nums: List[int]\n",
    "        :rtype: List[List[int]]\n",
    "        \"\"\"\n",
    "        if(not nums or len(nums) < 3):\n",
    "            return []\n",
    "        nums.sort()\n",
    "        res = set()\n",
    "        for i,item in enumerate(nums[:-2]):\n",
    "            if(i > 0 and item == nums[i-1]):\n",
    "                continue\n",
    "            com_set = set()\n",
    "            for entry in nums[i+1:]:\n",
    "                if(entry not in com_set):\n",
    "                    com_set.add(-entry-item)\n",
    "                else:\n",
    "                    res.add((item,-entry-item,entry))\n",
    "        return list(map(list,res))"
   ]
  },
  {
   "cell_type": "code",
   "execution_count": 68,
   "metadata": {},
   "outputs": [
    {
     "data": {
      "text/plain": [
       "[[-1, -1, 2], [-1, 0, 1]]"
      ]
     },
     "execution_count": 68,
     "metadata": {},
     "output_type": "execute_result"
    }
   ],
   "source": [
    "Solution().threeSum([-1, 0, 1, 2, -1, -4])"
   ]
  }
 ],
 "metadata": {
  "kernelspec": {
   "display_name": "Python 3",
   "language": "python",
   "name": "python3"
  },
  "language_info": {
   "codemirror_mode": {
    "name": "ipython",
    "version": 3
   },
   "file_extension": ".py",
   "mimetype": "text/x-python",
   "name": "python",
   "nbconvert_exporter": "python",
   "pygments_lexer": "ipython3",
   "version": "3.7.2"
  }
 },
 "nbformat": 4,
 "nbformat_minor": 2
}

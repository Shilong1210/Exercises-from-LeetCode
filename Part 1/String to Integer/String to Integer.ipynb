{
 "cells": [
  {
   "cell_type": "markdown",
   "metadata": {},
   "source": [
    "![image](Question.PNG)"
   ]
  },
  {
   "cell_type": "code",
   "execution_count": 7,
   "metadata": {},
   "outputs": [],
   "source": [
    "class Solution(object):\n",
    "    def myAtoi(self, st):\n",
    "        \"\"\"\n",
    "        :type str: str\n",
    "        :rtype: int\n",
    "        \"\"\"\n",
    "        valid_set = {'0','1','2','3','4','5','6','7','8','9','+','-'}\n",
    "        num_set = {'0','1','2','3','4','5','6','7','8','9'}\n",
    "        inp = st.strip()\n",
    "        if(not inp):\n",
    "            return 0\n",
    "        if(inp[0] not in valid_set):\n",
    "            return 0\n",
    "        \n",
    "        pointer = 1\n",
    "        while(pointer < len(inp)):\n",
    "            if(inp[pointer] not in num_set):\n",
    "                break\n",
    "            else:\n",
    "                pointer += 1\n",
    "        \n",
    "        try:\n",
    "            num = int(inp[0:pointer])\n",
    "        except:\n",
    "            return 0\n",
    "        if(num > pow(2,31)-1):\n",
    "            return pow(2,31)-1\n",
    "        elif(num < -pow(2,31)):\n",
    "            return -pow(2,31)\n",
    "        else:\n",
    "            return num"
   ]
  },
  {
   "cell_type": "code",
   "execution_count": 8,
   "metadata": {},
   "outputs": [
    {
     "data": {
      "text/plain": [
       "4193"
      ]
     },
     "execution_count": 8,
     "metadata": {},
     "output_type": "execute_result"
    }
   ],
   "source": [
    "Solution().myAtoi(\"4193 with words\")"
   ]
  }
 ],
 "metadata": {
  "kernelspec": {
   "display_name": "Python 3",
   "language": "python",
   "name": "python3"
  },
  "language_info": {
   "codemirror_mode": {
    "name": "ipython",
    "version": 3
   },
   "file_extension": ".py",
   "mimetype": "text/x-python",
   "name": "python",
   "nbconvert_exporter": "python",
   "pygments_lexer": "ipython3",
   "version": "3.6.8"
  }
 },
 "nbformat": 4,
 "nbformat_minor": 2
}

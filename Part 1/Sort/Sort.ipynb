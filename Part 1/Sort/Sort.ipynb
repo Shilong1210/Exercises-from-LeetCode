{
 "cells": [
  {
   "cell_type": "markdown",
   "metadata": {},
   "source": [
    "List several sort algorithms in python language."
   ]
  },
  {
   "cell_type": "code",
   "execution_count": 3,
   "metadata": {},
   "outputs": [],
   "source": [
    "test = [3,1,5,4] # Test case"
   ]
  },
  {
   "cell_type": "markdown",
   "metadata": {},
   "source": [
    "**Bubble Sort**: $O(n^2)$  \n",
    "Bubble up the entry with the largest the value to the end of list."
   ]
  },
  {
   "cell_type": "code",
   "execution_count": 13,
   "metadata": {},
   "outputs": [
    {
     "name": "stdout",
     "output_type": "stream",
     "text": [
      "[1, 3, 4, 5]\n"
     ]
    }
   ],
   "source": [
    "def bubble_sort(array):\n",
    "    if(not array or len(array)==1):\n",
    "        return array\n",
    "    for i in range(len(array)-1):\n",
    "        if(array[i] > array[i+1]):\n",
    "            array[i], array[i+1] = array[i+1], array[i]\n",
    "    array[0:-1] = bubble_sort(array[0:-1])\n",
    "    return array\n",
    "\n",
    "if __name__ == \"__main__\":\n",
    "    print(bubble_sort(test))"
   ]
  },
  {
   "cell_type": "markdown",
   "metadata": {},
   "source": [
    "**Insertion Sort:** $O(n^2)$  \n",
    "Suppose the first part of array is already in order, the algorithm will insert the next value into this ordered part at the right place."
   ]
  },
  {
   "cell_type": "code",
   "execution_count": 5,
   "metadata": {},
   "outputs": [
    {
     "name": "stdout",
     "output_type": "stream",
     "text": [
      "[1, 3, 4, 5]\n"
     ]
    }
   ],
   "source": [
    "def insertion_sort(array):\n",
    "    if(not array or len(array)==1):\n",
    "        return array\n",
    "    for i in range(1,len(array)):\n",
    "        j = i\n",
    "        while(j>0 and array[j-1]>array[j]):\n",
    "            array[j-1],array[j] = array[j],array[j-1]\n",
    "            j -= 1\n",
    "        i += 1\n",
    "    return array\n",
    "\n",
    "if __name__ == \"__main__\":\n",
    "    print(insertion_sort(test))"
   ]
  },
  {
   "cell_type": "markdown",
   "metadata": {},
   "source": [
    "**Quick Sort:** $O(nlog(n))$"
   ]
  },
  {
   "cell_type": "code",
   "execution_count": 19,
   "metadata": {},
   "outputs": [
    {
     "name": "stdout",
     "output_type": "stream",
     "text": [
      "[1, 3, 4, 5]\n"
     ]
    }
   ],
   "source": [
    "def quick_sort(array):\n",
    "    if(not array or len(array)==1):\n",
    "        return array\n",
    "    array, pivot = partition(array)\n",
    "    array[0:pivot] = quick_sort(array[0:pivot])\n",
    "    array[pivot+1::] = quick_sort(array[pivot+1::])\n",
    "    return array\n",
    "\n",
    "def partition(array):\n",
    "    i = 0\n",
    "    for j in range(1,len(array)):\n",
    "        if(array[j] < array[0]):\n",
    "            i += 1\n",
    "            array[i],array[j] = array[j],array[i]\n",
    "    array[0],array[i] = array[i],array[0]\n",
    "    return array, i\n",
    "\n",
    "if __name__ == \"__main__\":\n",
    "    print(quick_sort(test))"
   ]
  }
 ],
 "metadata": {
  "kernelspec": {
   "display_name": "Python 3",
   "language": "python",
   "name": "python3"
  },
  "language_info": {
   "codemirror_mode": {
    "name": "ipython",
    "version": 3
   },
   "file_extension": ".py",
   "mimetype": "text/x-python",
   "name": "python",
   "nbconvert_exporter": "python",
   "pygments_lexer": "ipython3",
   "version": "3.6.8"
  }
 },
 "nbformat": 4,
 "nbformat_minor": 2
}

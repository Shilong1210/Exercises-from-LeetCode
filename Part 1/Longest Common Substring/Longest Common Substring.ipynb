{
 "cells": [
  {
   "cell_type": "markdown",
   "metadata": {},
   "source": [
    "## Problem description\n",
    "\n",
    "Find the longest common string between two strings. For example:\n",
    "\n",
    "A = 'abcde', B = 'zabcy'. Then the longest common substring between A and B will be 'abc'."
   ]
  },
  {
   "cell_type": "code",
   "execution_count": 25,
   "metadata": {},
   "outputs": [],
   "source": [
    "def LongestCommonSubstring(x,y):\n",
    "    X = list(x)\n",
    "    Y = list(y)\n",
    "    m = len(X)\n",
    "    n = len(Y)\n",
    "    str_length = 0\n",
    "    dp_matrix = [[0 for i in range(n+1)] for j in range(m+1)]\n",
    "    if (m and n):\n",
    "        for i in range(m+1):\n",
    "            for j in range(n+1):\n",
    "                if(i==0 or j==0):\n",
    "                    dp_matrix[i][j] = 0\n",
    "                elif(X[i-1] == Y[j-1]):\n",
    "                    dp_matrix[i][j] = dp_matrix[i-1][j-1]+1\n",
    "                    if(str_length < dp_matrix[i][j]):\n",
    "                        str_length = dp_matrix[i][j]\n",
    "                        row_index = i\n",
    "                        col_index = j\n",
    "                else:\n",
    "                    dp_matrix[i][j] = 0\n",
    "    else:\n",
    "        return \"\"\n",
    "    if(str_length == 0):\n",
    "        return \"\"\n",
    "    substring = []\n",
    "    while(dp_matrix[row_index][col_index]!=0):\n",
    "        substring.append(X[row_index-1])\n",
    "        row_index -= 1\n",
    "        col_index -= 1\n",
    "    return \"\".join(substring[::-1])"
   ]
  },
  {
   "cell_type": "code",
   "execution_count": 26,
   "metadata": {},
   "outputs": [
    {
     "data": {
      "text/plain": [
       "'Site:Geeks'"
      ]
     },
     "execution_count": 26,
     "metadata": {},
     "output_type": "execute_result"
    }
   ],
   "source": [
    "LongestCommonSubstring(\"OldSite:GeeksforGeeks.org\",\"NewSite:GeeksQuiz.com\")"
   ]
  }
 ],
 "metadata": {
  "kernelspec": {
   "display_name": "Python 3",
   "language": "python",
   "name": "python3"
  },
  "language_info": {
   "codemirror_mode": {
    "name": "ipython",
    "version": 3
   },
   "file_extension": ".py",
   "mimetype": "text/x-python",
   "name": "python",
   "nbconvert_exporter": "python",
   "pygments_lexer": "ipython3",
   "version": "3.6.8"
  }
 },
 "nbformat": 4,
 "nbformat_minor": 2
}

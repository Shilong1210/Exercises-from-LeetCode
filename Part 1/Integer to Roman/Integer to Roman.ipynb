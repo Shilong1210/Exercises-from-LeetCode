{
 "cells": [
  {
   "cell_type": "markdown",
   "metadata": {},
   "source": [
    "![image](Question.PNG)"
   ]
  },
  {
   "cell_type": "code",
   "execution_count": 1,
   "metadata": {},
   "outputs": [],
   "source": [
    "class Solution(object):\n",
    "    def intToRoman(self, num):\n",
    "        \"\"\"\n",
    "        :type num: int\n",
    "        :rtype: str\n",
    "        \"\"\"\n",
    "        dic = {1:{1:\"I\",4:\"IV\",5:\"V\",9:\"IX\"},\n",
    "               2:{1:\"X\",4:\"XL\",5:\"L\",9:\"XC\"},\n",
    "               3:{1:\"C\",4:\"CD\",5:\"D\",9:\"CM\"},\n",
    "               4:{1:\"M\"}}\n",
    "        power = 1\n",
    "        output = []\n",
    "        \n",
    "        while(num):\n",
    "            re = num % 10\n",
    "            if(re in dic[power]):\n",
    "                output.append(dic[power][re])\n",
    "            elif(re > 5):\n",
    "                output.append(dic[power][5]+(re-5)*dic[power][1])\n",
    "            else:\n",
    "                output.append(re*dic[power][1])\n",
    "            power += 1\n",
    "            num = num//10\n",
    "               \n",
    "        return \"\".join(output[::-1])"
   ]
  },
  {
   "cell_type": "code",
   "execution_count": 2,
   "metadata": {},
   "outputs": [
    {
     "data": {
      "text/plain": [
       "'DCCCLXXXVIII'"
      ]
     },
     "execution_count": 2,
     "metadata": {},
     "output_type": "execute_result"
    }
   ],
   "source": [
    "Solution().intToRoman(888)"
   ]
  }
 ],
 "metadata": {
  "kernelspec": {
   "display_name": "Python 3",
   "language": "python",
   "name": "python3"
  },
  "language_info": {
   "codemirror_mode": {
    "name": "ipython",
    "version": 3
   },
   "file_extension": ".py",
   "mimetype": "text/x-python",
   "name": "python",
   "nbconvert_exporter": "python",
   "pygments_lexer": "ipython3",
   "version": "3.7.2"
  }
 },
 "nbformat": 4,
 "nbformat_minor": 2
}
